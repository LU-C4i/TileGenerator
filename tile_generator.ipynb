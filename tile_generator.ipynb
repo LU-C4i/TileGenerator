{
 "cells": [
  {
   "cell_type": "code",
   "execution_count": null,
   "metadata": {},
   "outputs": [],
   "source": [
    "# default_exp tile_generator"
   ]
  },
  {
   "cell_type": "markdown",
   "metadata": {},
   "source": [
    "# Tile_Generator\n",
    "\n",
    "> Module used to generate satellite image tiles."
   ]
  },
  {
   "cell_type": "code",
   "execution_count": null,
   "metadata": {},
   "outputs": [],
   "source": [
    "#hide\n",
    "from nbdev.showdoc import *\n",
    "%matplotlib inline"
   ]
  },
  {
   "cell_type": "code",
   "execution_count": null,
   "metadata": {},
   "outputs": [],
   "source": [
    "#export\n",
    "from mapbox import StaticStyle\n",
    "from mapbox import Static\n",
    "from mapbox import Geocoder\n",
    "import os\n",
    "import numpy as np\n",
    "from PIL import Image as im\n",
    "import io\n",
    "import math\n",
    "import yaml\n",
    "import pandas as pd\n",
    "import random\n",
    "from dataclasses import dataclass\n",
    "from pathlib import Path"
   ]
  },
  {
   "cell_type": "code",
   "execution_count": null,
   "metadata": {},
   "outputs": [],
   "source": [
    "#export\n",
    "@dataclass\n",
    "class Map():\n",
    "    map_type:str\n",
    "    user:str\n",
    "    key:str\n",
    "    file_name:str"
   ]
  },
  {
   "cell_type": "markdown",
   "metadata": {},
   "source": [
    "We create a class that when initialised will then be able to request satellite image tiles and style tiles from Mapbox. "
   ]
  },
  {
   "cell_type": "code",
   "execution_count": null,
   "metadata": {},
   "outputs": [],
   "source": [
    "#export\n",
    "class TileGenerator:\n",
    "    '''Use this class to access Mapbox API and generate tiles'''\n",
    "\n",
    "    def __init__(self, settings_file = 'mapbox_settings.yaml',\n",
    "                 parent_directory = '.',\n",
    "                 train = 'train', valid = 'valid'):\n",
    "        '''Initialise a tile generator with a yaml settings file.\n",
    "        Set the parent directory path and names of training an validation folders'''\n",
    "        with open(settings_file) as f:\n",
    "            try:\n",
    "                self.data = yaml.load(f, Loader=yaml.FullLoader)\n",
    "                self.token = self.data['MAPBOX_ACCESS_TOKEN']\n",
    "                self.data_types = self._map_data(self.data['ids'])\n",
    "            except:\n",
    "                print('Check the settings file path:', settings_file)\n",
    "\n",
    "        self._initialize_services()\n",
    "        self.parent_directory = parent_directory\n",
    "        self.train = train\n",
    "        self.valid = valid\n",
    "        self.image_size = 0\n",
    "\n",
    "    def _initialize_services(self):\n",
    "        '''Set the mapbox access token for both the StaticStyle API and Static API sessions'''\n",
    "        self.service_style = StaticStyle(self.token)\n",
    "        self.service_static = Static(self.token)\n",
    "        self.service_geocoder = Geocoder()\n",
    "        os.environ['MAPBOX_ACCESS_TOKEN'] = self.token\n",
    "        self.service_style.session.params['access_token'] == os.environ['MAPBOX_ACCESS_TOKEN']\n",
    "        self.service_static.session.params['access_token'] == os.environ['MAPBOX_ACCESS_TOKEN']\n",
    "        self.service_geocoder.session.params['access_token'] == os.environ['MAPBOX_ACCESS_TOKEN']\n",
    "\n",
    "    def _map_data(self, ids:dict) -> dict:\n",
    "        data_type = {}\n",
    "        for id, info in self.data['ids'].items():\n",
    "            data_type[id] = Map(info['type'], info['user'], info['key'], info['file_name'])\n",
    "        return data_type\n",
    "\n",
    "    def get_styleid_response(self, lon:float, lat:float, zoom:int, data_type:str, features = None, width=512, height=512):\n",
    "        '''Retrieve the raster data for a given style available from Mapbox either from already created styles or\n",
    "        from user created ones in Mapbox Studio. Longitude, latitude, zoom and data type are required.\n",
    "        Additional features can be added to this raster by providing a json object for the features argument.'''\n",
    "        if self.data_types[data_type].map_type != 'style':\n",
    "            return 'Not the right data type. Must be a style type for the StaticStyle API'\n",
    "        response = self.service_style.image(username=self.data_types[data_type].user, style_id=self.data_types[data_type].key,\n",
    "                                            features = features, lon=lon, lat=lat, zoom=zoom, width=width, height=height)\n",
    "        return response.content\n",
    "\n",
    "    def get_mapid_response(self, lon:float, lat:float, zoom:int, data_type:str, features=None, width=512, height=512):\n",
    "        '''Retrieve the raster data for a given map id with longitude, latitude, zoom and data type. Additional features\n",
    "        can be added to this raster by providing a json object for the features argument.'''\n",
    "        if self.data_types[data_type].map_type != 'map':\n",
    "            return 'Not the right data type. Must be a map type for the Static API'\n",
    "        mapid  = f'{self.data_types[data_type].user}.{self.data_types[data_type].key}'\n",
    "        response = self.service_static.image(mapid, lon, lat, z=zoom, features=features,width=width, height=height)\n",
    "        return response.content\n",
    "\n",
    "    def get_response(self, lon, lat, zoom, data_type, features=None, width=512, height=512):\n",
    "        '''Response depending on data type.'''\n",
    "        if self.data_types[data_type].map_type == 'style':\n",
    "            return self.get_styleid_response(lon, lat, zoom, data_type, features, width=width, height=height)\n",
    "        elif self.data_types[data_type].map_type == 'map':\n",
    "            return self.get_mapid_response(lon, lat, zoom, data_type, features, width=width, height=height)\n",
    "        else: 'Not a recognised data type.'\n",
    "\n",
    "    def view_style_tile(self, lon, lat, zoom, data_type, additional_features = None):\n",
    "        '''View tile image from Mapbox style definition'''\n",
    "        xr = self.get_styleid_response(lon, lat, zoom, data_type, additional_features)\n",
    "        img = im.open(io.BytesIO(xr))\n",
    "        if self.image_size != 0: img = img.crop((0,0,self.image_size,self.image_size))\n",
    "        img = img.convert('RGB')\n",
    "        return img\n",
    "\n",
    "    def view_map_tile(self, lat, lon, zoom, data_type, additional_features = None):\n",
    "        '''View tile image based on Mapbox Map API'''\n",
    "        xr = self.get_mapid_response(lat, lon, zoom, data_type, features = additional_features)\n",
    "        img = im.open(io.BytesIO(xr))\n",
    "        if self.image_size != 0: img = img.crop((0,0,self.image_size,self.image_size))\n",
    "        img = img.convert('RGB')\n",
    "        return img\n",
    "\n",
    "    def file_exist(self,file_name:str):\n",
    "        '''Create directories if they do not exist'''\n",
    "        path = Path(f'{file_name}/')\n",
    "        if not path.exists():\n",
    "            path.mkdir()\n",
    "\n",
    "    def check_and_create_folder(self, file_name):\n",
    "        p = Path(file_name)\n",
    "        pth = Path()\n",
    "        for i in p.parts:\n",
    "            pth = pth.joinpath(i+'/')\n",
    "            self.file_exist(pth)\n",
    "\n",
    "    def get_tile_set(self, lon:float, lat:float, zoom:int, processors:dict, file_list:list,\n",
    "                     additional_features:dict = None, add_features:list = None, file:str='train', compress_level = 3, width=512, height=512):\n",
    "        for data_type, func in processors.items():\n",
    "            feature = None\n",
    "            if data_type in add_features: feature = additional_features\n",
    "            self.check_and_create_folder(f'{self.parent_directory}/{self.data_types[data_type].file_name}/{file}')\n",
    "            if not self.file_exists(file_list, self.data_types[data_type].file_name, file, lon, lat, zoom):\n",
    "                xr = self.get_response(lon, lat, zoom, data_type, feature, width=width, height= height)\n",
    "                img = im.open(io.BytesIO(xr))\n",
    "                if self.image_size != 0: img = img.crop((0,0,self.image_size,self.image_size))\n",
    "                img = img.convert('RGB')\n",
    "                func(img)\n",
    "                img.save(f'{self.parent_directory}/{self.data_types[data_type].file_name}/{file}/{lon},{lat},{zoom}.png','PNG',compress_level = compress_level)\n",
    "\n",
    "    def get_existing_files(self, file_name:str, file:str = 'train')->list:\n",
    "        '''Find all existing files inside file (defalut is train) and retrn list'''\n",
    "        existing_files = [f'{file_name}/{file}/{o.name}' for o in os.scandir(f'{self.parent_directory}/{file_name}/{file}')]\n",
    "        return existing_files\n",
    "\n",
    "    def file_exists(self, file_list:list, file_name:str, file:str, lon:float, lat:float, zoom:int)->bool:\n",
    "        '''Check if file exists'''\n",
    "        file_path = f'{file_name}/{file}/{lon},{lat},{zoom}.png'\n",
    "        return True if file_path in file_list else False\n",
    "\n",
    "    def generate_tile_set(self, top_left_lon:float, top_left_lat:float, bottom_right_lon:float, bottom_right_lat:float,\n",
    "                          zoom:int, processors:dict, add_features:list, valid_percentage = 10, image_crop = 0, g:dict = None, max_imgs:int=1000, compress_level = 3,\n",
    "                         width=512, height=512):\n",
    "        '''Method used to generate a set of tiles inside an area defined by the upper left corner and lower right corner'''\n",
    "        per = int(100 / valid_percentage)\n",
    "        total_imgs = 0\n",
    "        train_existing_files = []\n",
    "        valid_existing_files = []\n",
    "        if self.image_size == image_crop:\n",
    "            for f,_ in processors.items():\n",
    "                train_existing_files.extend(self.get_existing_files(self.data_types[f].file_name, self.train))\n",
    "                if self.valid: valid_existing_files.extend(self.get_existing_files(self.data_types[f].file_name, self.valid))\n",
    "        else:\n",
    "            self.image_size = image_crop\n",
    "        tl_x, tl_y, _ = self.lat_lon_to_x_y(top_left_lat, top_left_lon, zoom)\n",
    "        br_x, br_y, _ = self.lat_lon_to_x_y(bottom_right_lat, bottom_right_lon, zoom)\n",
    "        tot = int((abs(br_x - tl_x) + 1) * (abs(tl_y - br_y) + 1))\n",
    "        for j in range( int(abs(tl_y - br_y)) + 1):\n",
    "            for i in range( int(abs(br_x - tl_x)) + 1):\n",
    "                lat, lon = self.x_y_lat_lon(tl_x - i*0.71, tl_y - j, zoom)\n",
    "                if total_imgs % per == 0 and self.valid != None:\n",
    "                    self.get_tile_set(lat, lon, zoom, processors, valid_existing_files, additional_features = g, add_features = add_features, file = self.valid, compress_level=compress_level, width=width, height=height)\n",
    "                else:\n",
    "                    self.get_tile_set(lat, lon, zoom, processors, train_existing_files, additional_features = g, add_features = add_features, file = self.train, compress_level=compress_level, width=width, height=height)\n",
    "                total_imgs += 1\n",
    "                if total_imgs == max_imgs:\n",
    "                    return\n",
    "                tenper = int(0.1*tot) if int(0.1*tot) > 1 else tot\n",
    "                if int(total_imgs % tenper) == 0:\n",
    "                    per = int(100*total_imgs/tot)\n",
    "                    print(f'{per}%')\n",
    "\n",
    "    def generate_tiles_around_lat_lon(self, lat:float, lon:float, zoom:int, lat_lon_list:list, processors:dict,\n",
    "                                      add_features:list, feature_scale = 0.0002, tile_num:int = 1,\n",
    "                                      valid_percentage = 10, image_crop = 0, g:dict = None,\n",
    "                                      max_imgs:int=1000, compress_level = 3, width=512, height=512):\n",
    "        '''generate a set of tiles arounf a latitude and longitude'''\n",
    "        per = int(100 / valid_percentage)\n",
    "        total_imgs = 0\n",
    "        lat_lon_pairs = []\n",
    "        total_tiles = (2*tile_num + 1)\n",
    "        tl_x, tl_y, _ = self.lat_lon_to_x_y(lat, lon, zoom)\n",
    "        train_existing_files = []\n",
    "        valid_existing_files = []\n",
    "        if self.image_size == image_crop:\n",
    "            for f,_ in processors.items():\n",
    "                train_existing_files.extend(self.get_existing_files(self.data_types[f].file_name, self.train))\n",
    "                if self.valid: valid_existing_files.extend(self.get_existing_files(self.data_types[f].file_name, self.valid))\n",
    "        else:\n",
    "            self.image_size = image_crop\n",
    "        for x in range(3):\n",
    "            for y in range(3):\n",
    "                lat_lon_pairs.append((tl_x + 0.25 * (x - 1),tl_y + 0.25 * (y - 1)))\n",
    "        for ll in lat_lon_pairs:\n",
    "            for j in range(total_tiles):\n",
    "                for i in range(total_tiles):\n",
    "                    lat, lon = self.x_y_lat_lon(ll[0] + tile_num - i, ll[1] + tile_num - j, zoom)\n",
    "                    lls, ftrs = self.find_nn_ll(lat, lon, lat_lon_list, zoom, feature_scale)\n",
    "                    if ftrs['type'] == 'None': ftrs = None\n",
    "                    if total_imgs % per == 0 and self.valid != None:\n",
    "                        self.get_tile_set(lls[1], lls[0], zoom, processors, valid_existing_files, additional_features = ftrs, add_features = add_features, file = self.valid, compress_level=compress_level, width=width, height=height)\n",
    "                    else:\n",
    "                        self.get_tile_set(lls[1], lls[0], zoom, processors, train_existing_files, additional_features = ftrs, add_features = add_features, file = self.train, compress_level=compress_level, width=width, height=height)\n",
    "                    total_imgs += 1\n",
    "\n",
    "    def find_nn_ll(self, lati, long, ll_list, zoom, scale:float):\n",
    "        '''Find other latitudes and longitudes in the same tile. There is a limit on the number of neighbours\n",
    "        to be found as there is a character limit in the Mapbox query (see the counter variable in this method).'''\n",
    "        lati = lati\n",
    "        long = long\n",
    "        size_func = lambda x: math.log(x + 1)*scale\n",
    "        x, y, _ = self.lat_lon_to_x_y(lati, long, zoom)\n",
    "        minx = x - 0.5\n",
    "        maxx = x + 0.5\n",
    "        miny = y - 0.5\n",
    "        maxy = y + 0.5\n",
    "        nn_list = []\n",
    "        counter = 0\n",
    "        #counter is needed to restrict the number of rectangles created as there is a character limit\n",
    "        #for the string when submitting a query to Mapbox\n",
    "        for o in ll_list:\n",
    "            if self.filter_area(o, minx, maxx, miny, maxy, zoom) and counter < 6:\n",
    "                nn_list.append(self.create_rectangle_polygon(o, size_func))\n",
    "                counter += 1\n",
    "        features = ' '.join(map(str,nn_list))\n",
    "        if len(nn_list) > 0:\n",
    "            nns = {'type': 'FeatureCollection','features': nn_list}\n",
    "        else:\n",
    "            nns = {'type': 'None'}\n",
    "        return (lati,long), nns\n",
    "\n",
    "    def filter_area(self, ll, minx, maxx, miny, maxy, zoom):\n",
    "        x, y, _ = self.lat_lon_to_x_y(ll[0], ll[1], zoom)\n",
    "        if x > minx and x < maxx and y > miny and y < maxy:\n",
    "            return True\n",
    "        return False\n",
    "\n",
    "    def convertMasksToSegmentation(self, file = 'train', segmentation_array = None, clean_function=None, mask_file = 'mask', label_file = 'labels'):\n",
    "        '''Used to label pixels with an integer value corresponding to the order of the segmentation array'''\n",
    "        self.segmentation_array = segmentation_array\n",
    "        self.check_and_create_folder(f'{self.parent_directory}/{label_file}/{file}')\n",
    "        file_names = [o.name for o in os.scandir(f'{self.parent_directory}/{mask_file}/{file}')]\n",
    "        existing_files = [f'{o.name}' for o in os.scandir(f'{self.parent_directory}/{label_file}/{file}')]\n",
    "        for fn in file_names:\n",
    "            if fn not in existing_files:\n",
    "                orig = im.open(f'{self.parent_directory}/{mask_file}/{file}/{fn}')\n",
    "                width, height = orig.size\n",
    "                if clean_function:\n",
    "                    clean_function(orig)\n",
    "                m = np.array([self.pxToSeg(d) for d in orig.getdata()])\n",
    "                m = m.reshape((-1,width))\n",
    "                m = m.astype(float)\n",
    "                img = im.fromarray(m)\n",
    "                img = img.convert('RGB')\n",
    "                img.save(f'{self.parent_directory}/{label_file}/{file}/{fn}')\n",
    "\n",
    "    def pxToSeg(self, pixel):\n",
    "        return np.where([pixel == i for i in self.segmentation_array])[0][0]\n",
    "\n",
    "    def number_of_tiles(self, top_left_lon:float, top_left_lat:float, bottom_right_lon:float, bottom_right_lat:float, zoom:int):\n",
    "        '''Get the number of tiles in an area defined by upper left and lower right coordinates for a given zoom'''\n",
    "        tl_x, tl_y, _ = self.lat_lon_to_x_y(top_left_lat, top_left_lon, zoom)\n",
    "        br_x, br_y, _ = self.lat_lon_to_x_y(bottom_right_lat, bottom_right_lon, zoom)\n",
    "        tot = int((abs(br_x - tl_x) + 1) * (abs(tl_y - br_y) + 1))\n",
    "        return tot\n",
    "\n",
    "    def convertToRadians(self, degrees):\n",
    "        '''Simply convert Degrees to Radians'''\n",
    "        return degrees * math.pi / 180\n",
    "\n",
    "    def lat_lon_to_x_y(self, lat_deg, lon_deg, zoom):\n",
    "        '''Convert Latitude/Longitude coordinates to x/y coordinates'''\n",
    "        n = 2**zoom\n",
    "        lat_rad = self.convertToRadians(lat_deg)\n",
    "        xtile = n * ((lon_deg + 180) / 360)\n",
    "        ytile = n * (1 - (math.log( math.tan(lat_rad) + (1 / math.cos(lat_rad)) ) / math.pi)) / 2\n",
    "        return xtile, ytile, zoom\n",
    "\n",
    "    def x_y_lat_lon(self, x, y, zoom):\n",
    "        '''Convert x/y coordinates to Latitude/Longitude coordinates'''\n",
    "        n = 2**zoom\n",
    "        lon_deg = x / n * 360.0 - 180.0\n",
    "        lat_rad = math.atan(math.sinh(math.pi * (1 - 2 * y / n)))\n",
    "        lat_deg = lat_rad * 180.0 / math.pi\n",
    "        return lat_deg, lon_deg\n",
    "\n",
    "    def get_lats_lons_search(self, search_string:str = 'Den Haag, museum, gallery', minmax_lonlat:list = [4.244794, 4.349174, 52.068414,52.087417], limit:int = 20):\n",
    "        res = self.service_geocoder.forward(f'\\\"{search_string}\\\"', bbox = minmax_lonlat, limit = limit)\n",
    "        gj = res.geojson()\n",
    "        name = []\n",
    "        lat = []\n",
    "        lon = []\n",
    "        weights = []\n",
    "        for l in gj['features']:\n",
    "            name.append(l['text'])\n",
    "            lat.append(l['geometry']['coordinates'][1])\n",
    "            lon.append(l['geometry']['coordinates'][0])\n",
    "            weights.append(1)\n",
    "        return pd.DataFrame({'name' : name, 'lat' : lat, 'lon' : lon, 'weight' : weights})\n",
    "\n",
    "    def search_lats_lons(self, search_string:str = 'Den Haag, museum, gallery', minmax_lonlat:list = [4.244794, 4.349174, 52.068414,52.087417], limit:int = 20):\n",
    "        out = self.get_lats_lons_search(search_string, minmax_lonlat, limit)[['lat','lon','weight']]\n",
    "        lat_max = out['lat'].max()\n",
    "        lat_min = out['lat'].min()\n",
    "        lon_max = out['lon'].max()\n",
    "        lon_min = out['lon'].min()\n",
    "        return [tuple(r) for r in out.values.tolist()], lat_max, lat_min, lon_max, lon_min\n",
    "\n",
    "    def create_rectangle_polygon(self, center:tuple, size_func, colour:str = \"#BE00FF\", fill_opacity:float = 1):\n",
    "        '''Creates a json describing a rectangle that is sent to Mapbox to be drawn on the request image.'''\n",
    "        size = size_func(center[2])\n",
    "        tl = [center[1] - size, center[0] + size]\n",
    "        tr = [center[1] + size, center[0] + size]\n",
    "        br = [center[1] + size, center[0] - size]\n",
    "        bl = [center[1] - size, center[0] - size]\n",
    "        return {'type' : 'Feature', 'geometry' : {'type' : 'Polygon', 'coordinates' : [[tl,tr,br,bl,tl]]}, 'properties' : {'stroke' : colour, 'fill' : colour, 'fill-opacity' : fill_opacity}}"
   ]
  },
  {
   "cell_type": "code",
   "execution_count": null,
   "metadata": {},
   "outputs": [],
   "source": [
    "def get_lat_lons(file_name_csv:str, column_name_list:list, column_filter_name:str, size_limit = 1, site_id=False)->list:\n",
    "    '''convenience function for producing a list of tuples holding latitude and longitude'''\n",
    "    df = pd.read_csv(file_name_csv)\n",
    "    out = df[column_name_list]\n",
    "    out = out[out[column_filter_name] >= size_limit]\n",
    "    lat_max = out['lat'].max()\n",
    "    lat_min = out['lat'].min()\n",
    "    lon_max = out['lon'].max()\n",
    "    lon_min = out['lon'].min()\n",
    "    return [tuple(r) for r in out.values.tolist()], lat_max, lat_min, lon_max, lon_min    "
   ]
  },
  {
   "cell_type": "markdown",
   "metadata": {},
   "source": [
    "### Define styles to use"
   ]
  },
  {
   "cell_type": "markdown",
   "metadata": {},
   "source": [
    "To define the styles to generate, create a dictionary who's keys are the style names in the settings yaml file and the values are functions that manipulate the image if needed. This dictionary will be added to the tile_generator method generate_tile_set."
   ]
  },
  {
   "cell_type": "markdown",
   "metadata": {},
   "source": [
    "**Example use:**"
   ]
  },
  {
   "cell_type": "markdown",
   "metadata": {},
   "source": [
    "First create the functions you require to manipulate the style images. These functions can be included in the dictionary using lamdas."
   ]
  },
  {
   "cell_type": "code",
   "execution_count": null,
   "metadata": {},
   "outputs": [],
   "source": [
    "def cleanedImage(img, rgb_class_list:list, default_colour:int):\n",
    "    '''Remove any edge colour variations.'''\n",
    "    def pixelCorrect(pixel):\n",
    "        if pixel in rgb_class_list:\n",
    "            return pixel\n",
    "        else: \n",
    "            return rgb_class_list[default_colour]\n",
    "    return img.putdata([pixelCorrect(c) for c in img.getdata()])"
   ]
  },
  {
   "cell_type": "markdown",
   "metadata": {},
   "source": [
    "The inputs to the above function are a list of colours in rgb form in the style and which colour is the default. We can use this function to clean the style image to have only the colours of interest."
   ]
  },
  {
   "cell_type": "code",
   "execution_count": null,
   "metadata": {},
   "outputs": [],
   "source": [
    "pixel_colours = [(250,0,0),(245,0,204),(0,0,0),(0,128,219),(220,255,46),(16,234,67),(255,255,255),(190,0,255)]\n",
    "default_idx = 6"
   ]
  },
  {
   "cell_type": "markdown",
   "metadata": {},
   "source": [
    "The dictionary can then be defined:"
   ]
  },
  {
   "cell_type": "code",
   "execution_count": null,
   "metadata": {},
   "outputs": [],
   "source": [
    "processors = {'satellite': lambda x: x, 'featureMaskWood': lambda x: cleanedImage(x,pixel_colours,default_idx), 'elevation': lambda x: x}"
   ]
  },
  {
   "cell_type": "markdown",
   "metadata": {},
   "source": [
    "This processors dictionary is needed to specify the styles to generate. The functions can all be lamda x: x if now image processing is required."
   ]
  },
  {
   "cell_type": "markdown",
   "metadata": {},
   "source": [
    "### Add polygons to the images"
   ]
  },
  {
   "cell_type": "markdown",
   "metadata": {},
   "source": [
    "Optionally polygons can be added to the style or map images. These polygons are defined using the json format."
   ]
  },
  {
   "cell_type": "markdown",
   "metadata": {},
   "source": [
    "Below we define a rectangle based on a latitude, longitude pair:"
   ]
  },
  {
   "cell_type": "code",
   "execution_count": null,
   "metadata": {},
   "outputs": [],
   "source": [
    "#exports\n",
    "def create_rectange_polygon(center:tuple, size_func, colour:str = \"#BE00FF\", fill_opacity:float = 1):\n",
    "    '''Creates a json describing a rectangle that is sent to Mapbox to be drawn on the request image.'''\n",
    "    size = size_func(center[2])\n",
    "    tl = [center[1] - size, center[0] + size]\n",
    "    tr = [center[1] + size, center[0] + size]\n",
    "    br = [center[1] + size, center[0] - size]\n",
    "    bl = [center[1] - size, center[0] - size]\n",
    "    return {'type' : 'Feature', 'geometry' : {'type' : 'Polygon', 'coordinates' : [[tl,tr,br,bl,tl]]}, 'properties' : {'stroke' : colour, 'fill' : colour, 'fill-opacity' : fill_opacity}}"
   ]
  },
  {
   "cell_type": "markdown",
   "metadata": {},
   "source": [
    "This method starts at the top left latitude/longitude and then specifies adjacent corners in sequence finishing with the original top left corner."
   ]
  },
  {
   "cell_type": "markdown",
   "metadata": {},
   "source": [
    "### Choosing region to generate data"
   ]
  },
  {
   "cell_type": "markdown",
   "metadata": {},
   "source": [
    "The following convenence function allows you to choose a top left latitude and longitude with a step size in latitude and longitude to generate a list of bounding boxes to generate data in. The default number of bounding boxes is 4 (2 steps for longitude and 2 steps for latitude)."
   ]
  },
  {
   "cell_type": "code",
   "execution_count": null,
   "metadata": {},
   "outputs": [],
   "source": [
    "#export\n",
    "def get_quad_grid(lat, lon, lat_dif, lon_dif, num_on_axis = 2):\n",
    "    tuple_list = []\n",
    "    for la in range(num_on_axis):\n",
    "        for lo in range(num_on_axis):\n",
    "            tuple_list.append((lat - la*lat_dif, lon + lo*lon_dif, lat - (la + 1)*lat_dif, lon + (lo + 1)*lon_dif))\n",
    "    return tuple_list"
   ]
  },
  {
   "cell_type": "markdown",
   "metadata": {},
   "source": [
    "If you have a list of latitudes and longitudes you can put them in a list of tuples (lat,long) and feed these into the following convienence function to split into training, validation and test sets:"
   ]
  },
  {
   "cell_type": "code",
   "execution_count": null,
   "metadata": {},
   "outputs": [],
   "source": [
    "#exports\n",
    "def generate_train_valid_test(data, valid_per = 0.1, test_per = 0.1):\n",
    "    '''Function to split list into train, valid and test sets'''\n",
    "    train_ll = []\n",
    "    valid_ll = []\n",
    "\n",
    "    test_len = int(test_per*len(data))\n",
    "    test_idx = np.random.choice(2*test_len,test_len,replace = False)\n",
    "    test_ll = [ll for i, ll in enumerate(data[:2*test_len]) if i in test_idx]\n",
    "\n",
    "    rest_data = [d for i, d in enumerate(data) if i not in test_idx]\n",
    "\n",
    "    valid_len = int(valid_per*len(data))\n",
    "    valid_idx = np.random.choice(len(rest_data),valid_len,replace = False)\n",
    "\n",
    "    for i, d in enumerate(rest_data):\n",
    "        if i in valid_idx:\n",
    "            valid_ll.append(d)\n",
    "        else:\n",
    "            train_ll.append(d)\n",
    "\n",
    "    assert(len(train_ll) + len(valid_ll) +  len(test_ll) == len(data))\n",
    "\n",
    "    return {'train':train_ll, 'valid':valid_ll, 'test':test_ll}"
   ]
  },
  {
   "cell_type": "markdown",
   "metadata": {},
   "source": [
    "## Work Flow"
   ]
  },
  {
   "cell_type": "markdown",
   "metadata": {},
   "source": [
    "First create a settings yaml file like the one found in this library containing all the necessary information such as a public key for Mapbox, style names and user names. "
   ]
  },
  {
   "cell_type": "markdown",
   "metadata": {},
   "source": [
    "Next initialise a TileGenerator instance. Change the parent_directory to an appropriate directory for you. Also check the settings_file location."
   ]
  },
  {
   "cell_type": "code",
   "execution_count": null,
   "metadata": {},
   "outputs": [],
   "source": [
    "#Example\n",
    "tg = TileGenerator(settings_file = \"mapbox_settings.yaml\", parent_directory='.')"
   ]
  },
  {
   "cell_type": "markdown",
   "metadata": {},
   "source": [
    "Now before we can generate the tiles of interest we need to define our dictionary of syles of interest like the processors dictionary above."
   ]
  },
  {
   "cell_type": "markdown",
   "metadata": {},
   "source": [
    "Mapbox allows you to add features like points our polygons to a map by providing a json describing that shape. The create_rectangle_polygon method can be used here to put rectangles of a chosen colour on top of a map. "
   ]
  },
  {
   "cell_type": "markdown",
   "metadata": {},
   "source": [
    "To generate a tile set use the generate_tile_set method. This method takes multiple inputs. The bounding box latitudes and longitudes, the zoom level, the relevant styles and the additional features."
   ]
  },
  {
   "cell_type": "markdown",
   "metadata": {},
   "source": [
    "The below list for additional features tells the generator on to which styles to write the additional features. In this case the style is 'white' meaning just a white background style."
   ]
  },
  {
   "cell_type": "code",
   "execution_count": null,
   "metadata": {},
   "outputs": [],
   "source": [
    "#Example\n",
    "add_features = ['white']"
   ]
  },
  {
   "cell_type": "markdown",
   "metadata": {},
   "source": [
    "Let's use the processors dictionary from above too."
   ]
  },
  {
   "cell_type": "markdown",
   "metadata": {},
   "source": [
    "Next run the generate_tile_set method:"
   ]
  },
  {
   "cell_type": "markdown",
   "metadata": {},
   "source": [
    "For example:"
   ]
  },
  {
   "cell_type": "code",
   "execution_count": null,
   "metadata": {},
   "outputs": [],
   "source": [
    "#Example\n",
    "tllon, tllat, brlon, brlat = 52.084141, 4.293835, 52.072593, 4.318692\n",
    "z = 13"
   ]
  },
  {
   "cell_type": "code",
   "execution_count": null,
   "metadata": {},
   "outputs": [],
   "source": [
    "#Example\n",
    "tg.generate_tile_set(top_left_lon = tllon, top_left_lat = tllat, bottom_right_lon = brlon, bottom_right_lat = brlat,\n",
    "                    zoom = z, processors = processors, add_features = add_features, image_crop = 490)"
   ]
  },
  {
   "cell_type": "markdown",
   "metadata": {},
   "source": [
    "This will request the relevant images and styles from Mapbox and save them in the appropriate files where the names of the files are defined in the settings YAML file and the name of the training and validation files are \"train\" and \"valid\" by default."
   ]
  },
  {
   "cell_type": "markdown",
   "metadata": {},
   "source": [
    "Once the images and styles it is possible to rewrite the style files in a format appropriate for segmentation where each pixel will get a number starting from 0 corresponding to the pixel colours defined."
   ]
  },
  {
   "cell_type": "markdown",
   "metadata": {},
   "source": [
    "This is done by running:"
   ]
  },
  {
   "cell_type": "code",
   "execution_count": null,
   "metadata": {},
   "outputs": [],
   "source": [
    "#Example\n",
    "tg.convertMasksToSegmentation(file = 'valid', segmentation_array=pixel_colours, mask_file='mask_B', label_file='labels')"
   ]
  },
  {
   "cell_type": "markdown",
   "metadata": {},
   "source": [
    "This will convert all the files in the \"train\" folder under \"mask\" to segmentation appropriate images in the \"labels\" folder also under \"train\"."
   ]
  }
 ],
 "metadata": {
  "kernelspec": {
   "display_name": "Python 3",
   "language": "python",
   "name": "python3"
  }
 },
 "nbformat": 4,
 "nbformat_minor": 2
}
